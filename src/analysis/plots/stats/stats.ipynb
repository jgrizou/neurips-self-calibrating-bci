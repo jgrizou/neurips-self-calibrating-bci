{
 "cells": [
  {
   "cell_type": "code",
   "execution_count": 1,
   "id": "977a7e78-c839-4b5e-b887-a4a9e4e53f79",
   "metadata": {},
   "outputs": [],
   "source": [
    "import os\n",
    "_ROOT_PATH = os.path.join('..', '..', '..')\n",
    "_FINAL_DFS_DIR = os.path.join('..', '..', 'final_dfs')\n",
    "_CSV_DIR = os.path.join('..', '..', 'csv_files')\n",
    "\n",
    "import sys\n",
    "sys.path.append('..')\n",
    "sys.path.append(os.path.join('..', '..', '..', 'tools'))\n",
    "import plotconfig"
   ]
  },
  {
   "cell_type": "code",
   "execution_count": 2,
   "id": "f3a04c65-a634-4f12-844e-cf388c26fb1e",
   "metadata": {},
   "outputs": [],
   "source": [
    "import numpy as np\n",
    "import pandas as pd\n",
    "import seaborn as sns\n",
    "import matplotlib.pyplot as plt"
   ]
  },
  {
   "cell_type": "code",
   "execution_count": 3,
   "id": "833ce0e1-aaa2-4bbb-a2f7-55c3044b5aa2",
   "metadata": {},
   "outputs": [],
   "source": [
    "df_file = os.path.join(_FINAL_DFS_DIR, 'optim_rmse_y_true_vs_y_reconstructed.parquet')\n",
    "result_df = pd.read_parquet(df_file, engine='pyarrow')"
   ]
  },
  {
   "cell_type": "code",
   "execution_count": 4,
   "id": "472fee22-aab6-488b-a2c9-688d0d44cb80",
   "metadata": {},
   "outputs": [
    {
     "data": {
      "text/plain": [
       "(9234,)"
      ]
     },
     "execution_count": 4,
     "metadata": {},
     "output_type": "execute_result"
    }
   ],
   "source": [
    "result_df.iloc[0]['true_labels'].shape"
   ]
  },
  {
   "cell_type": "code",
   "execution_count": 5,
   "id": "6b3e7f6c-d475-4372-adc0-717b48eae8d4",
   "metadata": {},
   "outputs": [
    {
     "data": {
      "text/plain": [
       "1569780"
      ]
     },
     "execution_count": 5,
     "metadata": {},
     "output_type": "execute_result"
    }
   ],
   "source": [
    "9234*170"
   ]
  },
  {
   "cell_type": "code",
   "execution_count": 6,
   "id": "ab1ee846-da07-4796-8457-dd0955226bc8",
   "metadata": {},
   "outputs": [
    {
     "data": {
      "text/html": [
       "<div>\n",
       "<style scoped>\n",
       "    .dataframe tbody tr th:only-of-type {\n",
       "        vertical-align: middle;\n",
       "    }\n",
       "\n",
       "    .dataframe tbody tr th {\n",
       "        vertical-align: top;\n",
       "    }\n",
       "\n",
       "    .dataframe thead th {\n",
       "        text-align: right;\n",
       "    }\n",
       "</style>\n",
       "<table border=\"1\" class=\"dataframe\">\n",
       "  <thead>\n",
       "    <tr style=\"text-align: right;\">\n",
       "      <th></th>\n",
       "      <th>method_name</th>\n",
       "      <th>rmse_mean</th>\n",
       "      <th>rmse_std</th>\n",
       "    </tr>\n",
       "  </thead>\n",
       "  <tbody>\n",
       "    <tr>\n",
       "      <th>0</th>\n",
       "      <td>DummyScoring_Mean</td>\n",
       "      <td>18.231405</td>\n",
       "      <td>2.986684</td>\n",
       "    </tr>\n",
       "    <tr>\n",
       "      <th>1</th>\n",
       "      <td>LinearRegression</td>\n",
       "      <td>0.176395</td>\n",
       "      <td>0.079547</td>\n",
       "    </tr>\n",
       "    <tr>\n",
       "      <th>2</th>\n",
       "      <td>Shuffle_LinearRegression</td>\n",
       "      <td>15.200366</td>\n",
       "      <td>3.206717</td>\n",
       "    </tr>\n",
       "  </tbody>\n",
       "</table>\n",
       "</div>"
      ],
      "text/plain": [
       "                method_name  rmse_mean  rmse_std\n",
       "0         DummyScoring_Mean  18.231405  2.986684\n",
       "1          LinearRegression   0.176395  0.079547\n",
       "2  Shuffle_LinearRegression  15.200366  3.206717"
      ]
     },
     "execution_count": 6,
     "metadata": {},
     "output_type": "execute_result"
    }
   ],
   "source": [
    "# Assuming your DataFrame is named 'df'\n",
    "grouped_df = result_df.groupby(['method_name'])\n",
    "\n",
    "# Calculate mean and std for each subtable\n",
    "compiled_result = grouped_df.agg({\n",
    "    'rmse': ['mean', 'std']\n",
    "})\n",
    "\n",
    "# Flatten the column names\n",
    "compiled_result.columns = ['_'.join(col).strip() for col in compiled_result.columns.values]\n",
    "\n",
    "# Reset the index to display method_name and training_size as columns\n",
    "compiled_result = compiled_result.reset_index()\n",
    "compiled_result"
   ]
  },
  {
   "cell_type": "code",
   "execution_count": 7,
   "id": "9ed55c99-3ebe-4c99-8fb8-b72d3a5fc5ee",
   "metadata": {},
   "outputs": [],
   "source": [
    "# Dictionary to store rmse values for each method\n",
    "rmse_values = {}\n",
    "true_labels = {}\n",
    "pred_labels = {}\n",
    "\n",
    "# Loop through each unique method name\n",
    "for method in result_df['method_name'].unique():\n",
    "    # Create a mask for the current method\n",
    "    mask = (result_df['method_name'] == method)\n",
    "    \n",
    "    # Filter the DataFrame and get the 'rmse' values\n",
    "    df = result_df[mask]\n",
    "    rmse_values[method] = df['rmse'].values\n",
    "    true_labels[method] = df['true_labels'].values\n",
    "    pred_labels[method] = df['pred_labels'].values"
   ]
  },
  {
   "cell_type": "code",
   "execution_count": 8,
   "id": "3ac1d7cd-6145-4f30-8a32-307bd0921a99",
   "metadata": {},
   "outputs": [
    {
     "data": {
      "text/plain": [
       "dict_keys(['LinearRegression', 'Shuffle_LinearRegression', 'DummyScoring_Mean'])"
      ]
     },
     "execution_count": 8,
     "metadata": {},
     "output_type": "execute_result"
    }
   ],
   "source": [
    "true_labels.keys()"
   ]
  },
  {
   "cell_type": "code",
   "execution_count": 9,
   "id": "f388c3b3-64b9-407e-9b50-64aa1a4a1184",
   "metadata": {},
   "outputs": [],
   "source": [
    "flattened_true_labels = {method: [label for sublist in labels for label in sublist] for method, labels in true_labels.items()}"
   ]
  },
  {
   "cell_type": "code",
   "execution_count": 10,
   "id": "5e32706b-7e5e-4d20-be66-955cb8434e58",
   "metadata": {},
   "outputs": [
    {
     "data": {
      "text/plain": [
       "1569780"
      ]
     },
     "execution_count": 10,
     "metadata": {},
     "output_type": "execute_result"
    }
   ],
   "source": [
    "len(flattened_true_labels['LinearRegression'])"
   ]
  },
  {
   "cell_type": "code",
   "execution_count": 11,
   "id": "03e57b89-8d35-46fd-b3ce-602cdff244fb",
   "metadata": {},
   "outputs": [
    {
     "data": {
      "text/html": [
       "<div>\n",
       "<style scoped>\n",
       "    .dataframe tbody tr th:only-of-type {\n",
       "        vertical-align: middle;\n",
       "    }\n",
       "\n",
       "    .dataframe tbody tr th {\n",
       "        vertical-align: top;\n",
       "    }\n",
       "\n",
       "    .dataframe thead th {\n",
       "        text-align: right;\n",
       "    }\n",
       "</style>\n",
       "<table border=\"1\" class=\"dataframe\">\n",
       "  <thead>\n",
       "    <tr style=\"text-align: right;\">\n",
       "      <th></th>\n",
       "      <th>rounded_d</th>\n",
       "      <th>showing_time</th>\n",
       "      <th>match_mean</th>\n",
       "      <th>match_std</th>\n",
       "      <th>match_sem</th>\n",
       "      <th>match_count</th>\n",
       "    </tr>\n",
       "  </thead>\n",
       "  <tbody>\n",
       "    <tr>\n",
       "      <th>0</th>\n",
       "      <td>0.0</td>\n",
       "      <td>500</td>\n",
       "      <td>0.493243</td>\n",
       "      <td>0.501652</td>\n",
       "      <td>0.041236</td>\n",
       "      <td>148</td>\n",
       "    </tr>\n",
       "    <tr>\n",
       "      <th>1</th>\n",
       "      <td>1.6</td>\n",
       "      <td>500</td>\n",
       "      <td>0.503226</td>\n",
       "      <td>0.501610</td>\n",
       "      <td>0.040290</td>\n",
       "      <td>155</td>\n",
       "    </tr>\n",
       "    <tr>\n",
       "      <th>2</th>\n",
       "      <td>3.6</td>\n",
       "      <td>500</td>\n",
       "      <td>0.376623</td>\n",
       "      <td>0.486120</td>\n",
       "      <td>0.039173</td>\n",
       "      <td>154</td>\n",
       "    </tr>\n",
       "    <tr>\n",
       "      <th>3</th>\n",
       "      <td>6.8</td>\n",
       "      <td>500</td>\n",
       "      <td>0.289017</td>\n",
       "      <td>0.454622</td>\n",
       "      <td>0.034564</td>\n",
       "      <td>173</td>\n",
       "    </tr>\n",
       "    <tr>\n",
       "      <th>4</th>\n",
       "      <td>10.9</td>\n",
       "      <td>500</td>\n",
       "      <td>0.129496</td>\n",
       "      <td>0.336963</td>\n",
       "      <td>0.028581</td>\n",
       "      <td>139</td>\n",
       "    </tr>\n",
       "    <tr>\n",
       "      <th>5</th>\n",
       "      <td>16.3</td>\n",
       "      <td>500</td>\n",
       "      <td>0.036649</td>\n",
       "      <td>0.188393</td>\n",
       "      <td>0.013632</td>\n",
       "      <td>191</td>\n",
       "    </tr>\n",
       "    <tr>\n",
       "      <th>6</th>\n",
       "      <td>21.7</td>\n",
       "      <td>500</td>\n",
       "      <td>0.031646</td>\n",
       "      <td>0.175611</td>\n",
       "      <td>0.013971</td>\n",
       "      <td>158</td>\n",
       "    </tr>\n",
       "    <tr>\n",
       "      <th>7</th>\n",
       "      <td>29.4</td>\n",
       "      <td>500</td>\n",
       "      <td>0.006452</td>\n",
       "      <td>0.080322</td>\n",
       "      <td>0.006452</td>\n",
       "      <td>155</td>\n",
       "    </tr>\n",
       "    <tr>\n",
       "      <th>8</th>\n",
       "      <td>36.7</td>\n",
       "      <td>500</td>\n",
       "      <td>0.000000</td>\n",
       "      <td>0.000000</td>\n",
       "      <td>0.000000</td>\n",
       "      <td>165</td>\n",
       "    </tr>\n",
       "    <tr>\n",
       "      <th>9</th>\n",
       "      <td>46.2</td>\n",
       "      <td>500</td>\n",
       "      <td>0.006579</td>\n",
       "      <td>0.081111</td>\n",
       "      <td>0.006579</td>\n",
       "      <td>152</td>\n",
       "    </tr>\n",
       "  </tbody>\n",
       "</table>\n",
       "</div>"
      ],
      "text/plain": [
       "   rounded_d  showing_time  match_mean  match_std  match_sem  match_count\n",
       "0        0.0           500    0.493243   0.501652   0.041236          148\n",
       "1        1.6           500    0.503226   0.501610   0.040290          155\n",
       "2        3.6           500    0.376623   0.486120   0.039173          154\n",
       "3        6.8           500    0.289017   0.454622   0.034564          173\n",
       "4       10.9           500    0.129496   0.336963   0.028581          139\n",
       "5       16.3           500    0.036649   0.188393   0.013632          191\n",
       "6       21.7           500    0.031646   0.175611   0.013971          158\n",
       "7       29.4           500    0.006452   0.080322   0.006452          155\n",
       "8       36.7           500    0.000000   0.000000   0.000000          165\n",
       "9       46.2           500    0.006579   0.081111   0.006579          152"
      ]
     },
     "execution_count": 11,
     "metadata": {},
     "output_type": "execute_result"
    }
   ],
   "source": [
    "directory = '../../../user_experiments/results'\n",
    "\n",
    "dfs = []\n",
    "for filename in os.listdir(directory):\n",
    "    if filename.endswith('.csv'):\n",
    "        file_path = os.path.join(directory, filename)\n",
    "        df = pd.read_csv(file_path)\n",
    "        dfs.append(df)\n",
    "\n",
    "df = pd.concat(dfs, ignore_index=True)\n",
    "\n",
    "df['match'] = (df['target'] != df['chosen']).astype(int)\n",
    "mask = ((df['showing_time'] == 500))\n",
    "\n",
    "df_masked = df[mask]\n",
    "\n",
    "grouped_df = df_masked.groupby(['rounded_d', 'showing_time'])\n",
    "compiled_result = grouped_df.agg({\n",
    "    'match': ['mean', 'std', 'sem', 'count']\n",
    "})\n",
    "compiled_result.columns = ['_'.join(col).strip() for col in compiled_result.columns.values]\n",
    "compiled_result = compiled_result.reset_index()\n",
    "compiled_result"
   ]
  },
  {
   "cell_type": "code",
   "execution_count": 12,
   "id": "a2a21828-a5ed-43d9-abb2-08539277edbc",
   "metadata": {},
   "outputs": [
    {
     "data": {
      "text/plain": [
       "dict_keys([np.float64(1.6), np.float64(0.0), np.float64(46.2), np.float64(29.4), np.float64(3.6), np.float64(16.3), np.float64(10.9), np.float64(36.7), np.float64(21.7), np.float64(6.8)])"
      ]
     },
     "execution_count": 12,
     "metadata": {},
     "output_type": "execute_result"
    }
   ],
   "source": [
    "\n",
    "# Dictionary to store rmse values for each method\n",
    "match_values = {}\n",
    "\n",
    "# Loop through each unique method name\n",
    "for rd in df_masked['rounded_d'].unique():\n",
    "    # Create a mask for the current method\n",
    "    mask = (df_masked['rounded_d'] == rd)\n",
    "    \n",
    "    # Filter the DataFrame and get the 'rmse' values\n",
    "    df = df_masked[mask]\n",
    "    match_values[rd] = df['match'].values\n",
    "\n",
    "match_values.keys()"
   ]
  },
  {
   "cell_type": "code",
   "execution_count": null,
   "id": "d4939dca-a8c1-4547-bdbc-07b6d0dc4512",
   "metadata": {},
   "outputs": [],
   "source": []
  },
  {
   "cell_type": "code",
   "execution_count": 13,
   "id": "3128486d-0a19-40f2-8f7b-9d160cbca123",
   "metadata": {},
   "outputs": [],
   "source": [
    "import numpy as np\n",
    "from scipy.stats import fisher_exact\n",
    "from itertools import combinations\n",
    "\n",
    "def pairwise_fisher_exact(match_values):\n",
    "    keys = list(match_values.keys())\n",
    "    results = {}\n",
    "\n",
    "    for (key1, key2) in combinations(keys, 2):\n",
    "        x1 = match_values[key1].sum()  # successes in group 1\n",
    "        n1 = len(match_values[key1])   # trials in group 1\n",
    "        x2 = match_values[key2].sum()  # successes in group 2\n",
    "        n2 = len(match_values[key2])   # trials in group 2\n",
    "\n",
    "        contingency_table = [[x1, n1 - x1], [x2, n2 - x2]]\n",
    "        \n",
    "        # Perform Fisher's Exact Test\n",
    "        odds_ratio, p_value = fisher_exact(contingency_table, alternative='two-sided')\n",
    "        \n",
    "        results[(key1, key2)] = {\n",
    "            'odds_ratio': odds_ratio,\n",
    "            'p_value': p_value\n",
    "        }\n",
    "\n",
    "    return results\n",
    "\n",
    "results = pairwise_fisher_exact(match_values)\n",
    "\n",
    "# Print results\n",
    "# for (key1, key2), stats in results.items():\n",
    "#     print(f\"Comparison between {key1} and {key2}:\")\n",
    "#     print(f\"  Odds Ratio: {stats['odds_ratio']}\")\n",
    "#     print(f\"  P-value: {stats['p_value']}\")\n",
    "#     print()"
   ]
  },
  {
   "cell_type": "code",
   "execution_count": 14,
   "id": "e4805872-6434-43f1-aaea-6be060c2da0f",
   "metadata": {},
   "outputs": [
    {
     "data": {
      "text/plain": [
       "{'odds_ratio': np.float64(18.4875),\n",
       " 'p_value': np.float64(1.7242598757797728e-15)}"
      ]
     },
     "execution_count": 14,
     "metadata": {},
     "output_type": "execute_result"
    }
   ],
   "source": [
    "results[(3.6, 21.7)]"
   ]
  },
  {
   "cell_type": "code",
   "execution_count": null,
   "id": "afd5a16e-5297-408c-9691-52053f90f68b",
   "metadata": {},
   "outputs": [],
   "source": []
  }
 ],
 "metadata": {
  "kernelspec": {
   "display_name": "neurips2025scbci",
   "language": "python",
   "name": "python3"
  },
  "language_info": {
   "codemirror_mode": {
    "name": "ipython",
    "version": 3
   },
   "file_extension": ".py",
   "mimetype": "text/x-python",
   "name": "python",
   "nbconvert_exporter": "python",
   "pygments_lexer": "ipython3",
   "version": "3.12.12"
  }
 },
 "nbformat": 4,
 "nbformat_minor": 5
}
