{
 "cells": [
  {
   "cell_type": "code",
   "execution_count": 15,
   "id": "9870cf02-64f7-4794-b9f1-c97e9a1a3ef4",
   "metadata": {},
   "outputs": [],
   "source": [
    "import os\n",
    "import sys\n",
    "tools_path = os.path.join('..', 'tools')\n",
    "sys.path.append(tools_path)\n",
    "import file_tools\n",
    "\n",
    "\n",
    "_DF_DIR = os.path.join('.', 'df_files')\n",
    "_FINAL_DFS_DIR = os.path.join('.', 'final_dfs')\n",
    "file_tools.ensure_dir(_FINAL_DFS_DIR)"
   ]
  },
  {
   "cell_type": "code",
   "execution_count": 16,
   "id": "a778190d-b537-419a-b566-a6b77f3a30a7",
   "metadata": {},
   "outputs": [],
   "source": [
    "import numpy as np\n",
    "import pandas as pd"
   ]
  },
  {
   "cell_type": "code",
   "execution_count": 17,
   "id": "a6f94cb6-ed43-4b6f-b9e2-b6ac22ed6e08",
   "metadata": {},
   "outputs": [
    {
     "name": "stdout",
     "output_type": "stream",
     "text": [
      "results_cluster 23836 ['LinearRegression' 'SVR' 'MLP']\n",
      "results_supervised_full_shuffle_backup 60 ['LinearRegression' 'Shuffle_LinearRegression' 'DummyScoring_Mean']\n",
      "results_latest_moresvr 23836 ['LinearRegression' 'SVR' 'MLP']\n",
      "optim_ablation 9793000 ['LinearRegression' 'Shuffle_LinearRegression' 'DummyScoring_Mean']\n",
      "results_relabelling 319 ['LinearRegression' 'Shuffle_LinearRegression' 'DummyScoring_Mean']\n",
      "results_clustersvr 340 ['BestSVR']\n",
      "results_dimensionality_eeg 10346 ['LinearRegression' 'Shuffle_LinearRegression' 'DummyScoring_Mean']\n",
      "results_bestsvreegnet 340 ['BestSVR']\n",
      "results_dimensionality_face 10200 ['LinearRegression' 'Shuffle_LinearRegression' 'DummyScoring_Mean']\n",
      "results_supervised_full_shuffle 5100 ['LinearRegression' 'Shuffle_LinearRegression' 'DummyScoring_Mean']\n",
      "results 24592 ['LinearRegression' 'Shuffle_LinearRegression' 'DummyScoring_Mean' 'SVR'\n",
      " 'RandomForest' 'MLP']\n",
      "results_ablation 36720 ['LinearRegression' 'Shuffle_LinearRegression' 'DummyScoring_Mean']\n",
      "optim 1351500 ['LinearRegression' 'Shuffle_LinearRegression' 'DummyScoring_Mean']\n",
      "results_supervised 7802 ['LinearRegression' 'Shuffle_LinearRegression' 'DummyScoring_Mean']\n",
      "results_best_again 371 ['BestSVR' 'BestMLP']\n",
      "results_best_cluster 371 ['BestSVR' 'BestMLP']\n"
     ]
    }
   ],
   "source": [
    "dfs = {}\n",
    "for f in file_tools.list_files(_DF_DIR, '*.parquet'):\n",
    "    dbf = os.path.join(_DF_DIR, f)\n",
    "    df = pd.read_parquet(dbf, engine='pyarrow')\n",
    "    basename = file_tools.get_filebasename(f)\n",
    "    dfs[basename] = df\n",
    "    print(basename, len(df), df['method_name'].unique())"
   ]
  },
  {
   "cell_type": "code",
   "execution_count": 37,
   "id": "3c0b546e-5f7f-4f4a-9d13-4d5c94475fbb",
   "metadata": {},
   "outputs": [
    {
     "name": "stdout",
     "output_type": "stream",
     "text": [
      "['LinearRegression' 'Shuffle_LinearRegression' 'DummyScoring_Mean']\n",
      "['SVR' 'MLP']\n",
      "['BestSVR']\n",
      "['LinearRegression' 'Shuffle_LinearRegression' 'DummyScoring_Mean' 'SVR'\n",
      " 'MLP' 'BestSVR' 'BestMLP']\n"
     ]
    }
   ],
   "source": [
    "# some local regressors runs were test run incomplete to prepare for cluster runs\n",
    "mask_results = ((dfs['results']['method_name'] != \"SVR\") &\n",
    "        (dfs['results']['method_name'] != \"MLP\") &\n",
    "        (dfs['results']['method_name'] != \"RandomForest\"))\n",
    "\n",
    "result_df = dfs['results'][mask_results]\n",
    "print(result_df['method_name'].unique())\n",
    "\n",
    "# LinReg on cluster is a duplicate, we could keep cluster one or local run one\n",
    "# we remove cluste one\n",
    "mask_results_cluster = ((dfs['results_cluster']['method_name'] != \"LinearRegression\"))\n",
    "\n",
    "results_cluster_df = dfs['results_cluster'][mask_results_cluster]\n",
    "print(results_cluster_df['method_name'].unique())\n",
    "\n",
    "results_best_cluster_df = dfs['results_best_cluster']\n",
    "\n",
    "\n",
    "## SVR EEGNet\n",
    "mask_results_bestsvreegnet = ((dfs['results_bestsvreegnet']['method_name'] == \"BestSVR\"))\n",
    "results_bestsvreegnet_df = dfs['results_bestsvreegnet'][mask_results_bestsvreegnet]\n",
    "print(results_bestsvreegnet_df['method_name'].unique())\n",
    "\n",
    "\n",
    "final_result_df = pd.concat([result_df, results_cluster_df, results_best_cluster_df, results_bestsvreegnet_df], axis=0)\n",
    "print(final_result_df['method_name'].unique())"
   ]
  },
  {
   "cell_type": "code",
   "execution_count": 38,
   "id": "58826f1c-4647-4a2e-8e96-61845a6cb765",
   "metadata": {},
   "outputs": [],
   "source": [
    "results_filename = os.path.join(_FINAL_DFS_DIR, 'results.parquet')\n",
    "final_result_df.to_parquet(results_filename, engine='pyarrow')"
   ]
  },
  {
   "cell_type": "code",
   "execution_count": 13,
   "id": "9259cc25-a858-4ae3-99b3-a21400e55e45",
   "metadata": {},
   "outputs": [],
   "source": [
    "results_ablation_filename = os.path.join(_FINAL_DFS_DIR, 'results_ablation.parquet')\n",
    "dfs['results_ablation'].to_parquet(results_ablation_filename, engine='pyarrow')"
   ]
  },
  {
   "cell_type": "code",
   "execution_count": 18,
   "id": "b438a9b1",
   "metadata": {},
   "outputs": [],
   "source": [
    "results_ablation_filename = os.path.join(_FINAL_DFS_DIR, 'results_relabelling.parquet')\n",
    "dfs['results_relabelling'].to_parquet(results_ablation_filename, engine='pyarrow')"
   ]
  },
  {
   "cell_type": "code",
   "execution_count": 40,
   "id": "ef189c1a",
   "metadata": {},
   "outputs": [
    {
     "ename": "KeyError",
     "evalue": "'results_supervised'",
     "output_type": "error",
     "traceback": [
      "\u001b[0;31m---------------------------------------------------------------------------\u001b[0m",
      "\u001b[0;31mKeyError\u001b[0m                                  Traceback (most recent call last)",
      "Cell \u001b[0;32mIn[40], line 2\u001b[0m\n\u001b[1;32m      1\u001b[0m results_supervised_filename \u001b[38;5;241m=\u001b[39m os\u001b[38;5;241m.\u001b[39mpath\u001b[38;5;241m.\u001b[39mjoin(_FINAL_DFS_DIR, \u001b[38;5;124m'\u001b[39m\u001b[38;5;124mresults_supervised.parquet\u001b[39m\u001b[38;5;124m'\u001b[39m)\n\u001b[0;32m----> 2\u001b[0m \u001b[43mdfs\u001b[49m\u001b[43m[\u001b[49m\u001b[38;5;124;43m'\u001b[39;49m\u001b[38;5;124;43mresults_supervised\u001b[39;49m\u001b[38;5;124;43m'\u001b[39;49m\u001b[43m]\u001b[49m\u001b[38;5;241m.\u001b[39mto_parquet(results_supervised_filename, engine\u001b[38;5;241m=\u001b[39m\u001b[38;5;124m'\u001b[39m\u001b[38;5;124mpyarrow\u001b[39m\u001b[38;5;124m'\u001b[39m)\n\u001b[1;32m      4\u001b[0m results_supervised_filename \u001b[38;5;241m=\u001b[39m os\u001b[38;5;241m.\u001b[39mpath\u001b[38;5;241m.\u001b[39mjoin(_FINAL_DFS_DIR, \u001b[38;5;124m'\u001b[39m\u001b[38;5;124mresults_supervised_full_shuffle.parquet\u001b[39m\u001b[38;5;124m'\u001b[39m)\n\u001b[1;32m      5\u001b[0m dfs[\u001b[38;5;124m'\u001b[39m\u001b[38;5;124mresults_supervised_full_shuffle\u001b[39m\u001b[38;5;124m'\u001b[39m]\u001b[38;5;241m.\u001b[39mto_parquet(results_supervised_filename, engine\u001b[38;5;241m=\u001b[39m\u001b[38;5;124m'\u001b[39m\u001b[38;5;124mpyarrow\u001b[39m\u001b[38;5;124m'\u001b[39m)\n",
      "\u001b[0;31mKeyError\u001b[0m: 'results_supervised'"
     ]
    }
   ],
   "source": [
    "results_supervised_filename = os.path.join(_FINAL_DFS_DIR, 'results_supervised.parquet')\n",
    "dfs['results_supervised'].to_parquet(results_supervised_filename, engine='pyarrow')\n",
    "\n",
    "results_supervised_filename = os.path.join(_FINAL_DFS_DIR, 'results_supervised_full_shuffle.parquet')\n",
    "dfs['results_supervised_full_shuffle'].to_parquet(results_supervised_filename, engine='pyarrow')"
   ]
  },
  {
   "cell_type": "code",
   "execution_count": 41,
   "id": "c58fd8e3-01a2-40d9-80ed-6c3b15486716",
   "metadata": {},
   "outputs": [],
   "source": [
    "results_dimensionality_eeg_filename = os.path.join(_FINAL_DFS_DIR, 'results_dimensionality_eeg.parquet')\n",
    "dfs['results_dimensionality_eeg'].to_parquet(results_dimensionality_eeg_filename, engine='pyarrow')\n",
    "\n",
    "results_dimensionality_face_filename = os.path.join(_FINAL_DFS_DIR, 'results_dimensionality_face.parquet')\n",
    "dfs['results_dimensionality_face'].to_parquet(results_dimensionality_face_filename, engine='pyarrow')"
   ]
  },
  {
   "cell_type": "code",
   "execution_count": 45,
   "id": "19c56ad9-23c7-481e-ba50-0468854dcc20",
   "metadata": {},
   "outputs": [],
   "source": [
    "# for optim, we cut it all to 1000 iterations\n",
    "CUT_THRESHOLD = 999\n",
    "\n",
    "df_optim = dfs['optim']\n",
    "\n",
    "mask = ((df_optim['number'] <= CUT_THRESHOLD))\n",
    "df_optim = df_optim[mask]\n",
    "\n",
    "from collections import Counter\n",
    "element_counts = Counter(df_optim['number'])\n",
    "counts = list(element_counts.values())\n",
    "assert len(counts) == 1000\n",
    "assert all(count == counts[0] for count in counts)\n",
    "\n",
    "optim_filename = os.path.join(_FINAL_DFS_DIR, 'optim.parquet')\n",
    "df_optim.to_parquet(optim_filename, engine='pyarrow')"
   ]
  },
  {
   "cell_type": "code",
   "execution_count": 46,
   "id": "1413d1b0-2610-4876-b7c6-3f68f4e00dcc",
   "metadata": {},
   "outputs": [],
   "source": [
    "# optim_ablation is a a different beast as we will pick the 0 ablation from the optim results above\n",
    "# and cut it all again to 1000 iteration\n",
    "\n",
    "CUT_THRESHOLD = 999\n",
    "\n",
    "df_optim_ablation = dfs['optim_ablation']\n",
    "\n",
    "# trim to 1000 iterations\n",
    "mask = ((df_optim_ablation['number'] <= CUT_THRESHOLD))\n",
    "df_optim_ablation = df_optim_ablation[mask]\n",
    "\n",
    "df_optim_ablation['method_name']\n",
    "\n",
    "# remove all 0 runs \n",
    "mask = ((df_optim_ablation['ablation_distance'] != 0))\n",
    "df_optim_ablation = df_optim_ablation[mask]\n",
    "# replace them with df_optim which are the same for both ablation and control run_type\n",
    "df_optim_copy = df_optim.copy()\n",
    "df_optim_copy['ablation_distance'] = 0\n",
    "df_optim_copy['run_type'] = 'control'\n",
    "df_optim_ablation = pd.concat([df_optim_ablation, df_optim_copy], ignore_index=True)\n",
    "\n",
    "df_optim_copy = df_optim.copy()\n",
    "df_optim_copy['ablation_distance'] = 0\n",
    "df_optim_copy['run_type'] = 'ablation'\n",
    "df_optim_ablation = pd.concat([df_optim_ablation, df_optim_copy], ignore_index=True)\n",
    "\n",
    "# mask = ((df_optim_ablation['ablation_distance'] != 0) &\n",
    "#         (df['method_name'] != \"BestMLP\") &\n",
    "#         (df['eeg_name'] == \"EEG_Raw\") & \n",
    "#         (df['test_name'] == \"random\"))\n",
    "\n",
    "\n",
    "# sanity check\n",
    "from collections import Counter\n",
    "element_counts = Counter(df_optim_ablation['number'])\n",
    "counts = list(element_counts.values())\n",
    "assert len(counts) == 1000\n",
    "assert all(count == counts[0] for count in counts)\n",
    "\n",
    "optim_ablation_filename = os.path.join(_FINAL_DFS_DIR, 'optim_ablation.parquet')\n",
    "df_optim_ablation.to_parquet(optim_ablation_filename, engine='pyarrow')"
   ]
  },
  {
   "cell_type": "code",
   "execution_count": 189,
   "id": "4be24c1e-1d7f-420d-8da6-be95156ece0a",
   "metadata": {},
   "outputs": [
    {
     "data": {
      "text/plain": [
       "array([25, 30,  5, 10, 35, 40, 15, 20,  0])"
      ]
     },
     "execution_count": 189,
     "metadata": {},
     "output_type": "execute_result"
    }
   ],
   "source": [
    "df_optim_ablation['ablation_distance'].unique()"
   ]
  },
  {
   "cell_type": "code",
   "execution_count": 190,
   "id": "e14b5e46-0915-4e88-b935-70e6a39fa0b7",
   "metadata": {},
   "outputs": [
    {
     "data": {
      "text/plain": [
       "array(['ablation', 'control'], dtype=object)"
      ]
     },
     "execution_count": 190,
     "metadata": {},
     "output_type": "execute_result"
    }
   ],
   "source": [
    "df_optim_ablation['run_type'].unique()"
   ]
  },
  {
   "cell_type": "code",
   "execution_count": 191,
   "id": "c93186e5-8825-4f26-94f7-ea00edc52baf",
   "metadata": {},
   "outputs": [
    {
     "data": {
      "text/html": [
       "<div>\n",
       "<style scoped>\n",
       "    .dataframe tbody tr th:only-of-type {\n",
       "        vertical-align: middle;\n",
       "    }\n",
       "\n",
       "    .dataframe tbody tr th {\n",
       "        vertical-align: top;\n",
       "    }\n",
       "\n",
       "    .dataframe thead th {\n",
       "        text-align: right;\n",
       "    }\n",
       "</style>\n",
       "<table border=\"1\" class=\"dataframe\">\n",
       "  <thead>\n",
       "    <tr style=\"text-align: right;\">\n",
       "      <th></th>\n",
       "      <th>method_name</th>\n",
       "      <th>number</th>\n",
       "      <th>value</th>\n",
       "      <th>euclidean_distance</th>\n",
       "      <th>ablation_distance</th>\n",
       "      <th>run_type</th>\n",
       "    </tr>\n",
       "  </thead>\n",
       "  <tbody>\n",
       "    <tr>\n",
       "      <th>0</th>\n",
       "      <td>LinearRegression</td>\n",
       "      <td>0</td>\n",
       "      <td>1.001659</td>\n",
       "      <td>28.079715</td>\n",
       "      <td>25</td>\n",
       "      <td>ablation</td>\n",
       "    </tr>\n",
       "    <tr>\n",
       "      <th>1</th>\n",
       "      <td>LinearRegression</td>\n",
       "      <td>1</td>\n",
       "      <td>0.998253</td>\n",
       "      <td>12.823638</td>\n",
       "      <td>25</td>\n",
       "      <td>ablation</td>\n",
       "    </tr>\n",
       "    <tr>\n",
       "      <th>2</th>\n",
       "      <td>LinearRegression</td>\n",
       "      <td>2</td>\n",
       "      <td>0.996458</td>\n",
       "      <td>14.093707</td>\n",
       "      <td>25</td>\n",
       "      <td>ablation</td>\n",
       "    </tr>\n",
       "    <tr>\n",
       "      <th>3</th>\n",
       "      <td>LinearRegression</td>\n",
       "      <td>3</td>\n",
       "      <td>1.001572</td>\n",
       "      <td>8.796211</td>\n",
       "      <td>25</td>\n",
       "      <td>ablation</td>\n",
       "    </tr>\n",
       "    <tr>\n",
       "      <th>4</th>\n",
       "      <td>LinearRegression</td>\n",
       "      <td>4</td>\n",
       "      <td>1.004591</td>\n",
       "      <td>16.307747</td>\n",
       "      <td>25</td>\n",
       "      <td>ablation</td>\n",
       "    </tr>\n",
       "    <tr>\n",
       "      <th>...</th>\n",
       "      <td>...</td>\n",
       "      <td>...</td>\n",
       "      <td>...</td>\n",
       "      <td>...</td>\n",
       "      <td>...</td>\n",
       "      <td>...</td>\n",
       "    </tr>\n",
       "    <tr>\n",
       "      <th>8564995</th>\n",
       "      <td>DummyScoring_Mean</td>\n",
       "      <td>995</td>\n",
       "      <td>1.000000</td>\n",
       "      <td>24.501106</td>\n",
       "      <td>0</td>\n",
       "      <td>ablation</td>\n",
       "    </tr>\n",
       "    <tr>\n",
       "      <th>8564996</th>\n",
       "      <td>DummyScoring_Mean</td>\n",
       "      <td>996</td>\n",
       "      <td>1.000000</td>\n",
       "      <td>23.908035</td>\n",
       "      <td>0</td>\n",
       "      <td>ablation</td>\n",
       "    </tr>\n",
       "    <tr>\n",
       "      <th>8564997</th>\n",
       "      <td>DummyScoring_Mean</td>\n",
       "      <td>997</td>\n",
       "      <td>1.000000</td>\n",
       "      <td>25.577454</td>\n",
       "      <td>0</td>\n",
       "      <td>ablation</td>\n",
       "    </tr>\n",
       "    <tr>\n",
       "      <th>8564998</th>\n",
       "      <td>DummyScoring_Mean</td>\n",
       "      <td>998</td>\n",
       "      <td>1.000000</td>\n",
       "      <td>24.343669</td>\n",
       "      <td>0</td>\n",
       "      <td>ablation</td>\n",
       "    </tr>\n",
       "    <tr>\n",
       "      <th>8564999</th>\n",
       "      <td>DummyScoring_Mean</td>\n",
       "      <td>999</td>\n",
       "      <td>1.000000</td>\n",
       "      <td>25.577782</td>\n",
       "      <td>0</td>\n",
       "      <td>ablation</td>\n",
       "    </tr>\n",
       "  </tbody>\n",
       "</table>\n",
       "<p>8565000 rows × 6 columns</p>\n",
       "</div>"
      ],
      "text/plain": [
       "               method_name  number     value  euclidean_distance  \\\n",
       "0         LinearRegression       0  1.001659           28.079715   \n",
       "1         LinearRegression       1  0.998253           12.823638   \n",
       "2         LinearRegression       2  0.996458           14.093707   \n",
       "3         LinearRegression       3  1.001572            8.796211   \n",
       "4         LinearRegression       4  1.004591           16.307747   \n",
       "...                    ...     ...       ...                 ...   \n",
       "8564995  DummyScoring_Mean     995  1.000000           24.501106   \n",
       "8564996  DummyScoring_Mean     996  1.000000           23.908035   \n",
       "8564997  DummyScoring_Mean     997  1.000000           25.577454   \n",
       "8564998  DummyScoring_Mean     998  1.000000           24.343669   \n",
       "8564999  DummyScoring_Mean     999  1.000000           25.577782   \n",
       "\n",
       "         ablation_distance  run_type  \n",
       "0                       25  ablation  \n",
       "1                       25  ablation  \n",
       "2                       25  ablation  \n",
       "3                       25  ablation  \n",
       "4                       25  ablation  \n",
       "...                    ...       ...  \n",
       "8564995                  0  ablation  \n",
       "8564996                  0  ablation  \n",
       "8564997                  0  ablation  \n",
       "8564998                  0  ablation  \n",
       "8564999                  0  ablation  \n",
       "\n",
       "[8565000 rows x 6 columns]"
      ]
     },
     "execution_count": 191,
     "metadata": {},
     "output_type": "execute_result"
    }
   ],
   "source": [
    "df_optim_ablation"
   ]
  },
  {
   "cell_type": "code",
   "execution_count": 192,
   "id": "7d0506aa-af65-49f0-bff6-12ffa181cae7",
   "metadata": {},
   "outputs": [
    {
     "data": {
      "text/html": [
       "<div>\n",
       "<style scoped>\n",
       "    .dataframe tbody tr th:only-of-type {\n",
       "        vertical-align: middle;\n",
       "    }\n",
       "\n",
       "    .dataframe tbody tr th {\n",
       "        vertical-align: top;\n",
       "    }\n",
       "\n",
       "    .dataframe thead th {\n",
       "        text-align: right;\n",
       "    }\n",
       "</style>\n",
       "<table border=\"1\" class=\"dataframe\">\n",
       "  <thead>\n",
       "    <tr style=\"text-align: right;\">\n",
       "      <th></th>\n",
       "      <th>method_name</th>\n",
       "      <th>eeg_name</th>\n",
       "      <th>pearsonr_statistic_mean</th>\n",
       "      <th>pearsonr_statistic_std</th>\n",
       "      <th>pearsonr_statistic_sem</th>\n",
       "    </tr>\n",
       "  </thead>\n",
       "  <tbody>\n",
       "    <tr>\n",
       "      <th>0</th>\n",
       "      <td>BestMLP</td>\n",
       "      <td>EEG_Net</td>\n",
       "      <td>-0.774051</td>\n",
       "      <td>0.048214</td>\n",
       "      <td>0.009455</td>\n",
       "    </tr>\n",
       "    <tr>\n",
       "      <th>1</th>\n",
       "      <td>BestMLP</td>\n",
       "      <td>EEG_Raw</td>\n",
       "      <td>-0.828877</td>\n",
       "      <td>0.028544</td>\n",
       "      <td>0.012765</td>\n",
       "    </tr>\n",
       "    <tr>\n",
       "      <th>2</th>\n",
       "      <td>BestSVR</td>\n",
       "      <td>EEG_Raw</td>\n",
       "      <td>-0.355963</td>\n",
       "      <td>0.146964</td>\n",
       "      <td>0.007970</td>\n",
       "    </tr>\n",
       "  </tbody>\n",
       "</table>\n",
       "</div>"
      ],
      "text/plain": [
       "  method_name eeg_name  pearsonr_statistic_mean  pearsonr_statistic_std  \\\n",
       "0     BestMLP  EEG_Net                -0.774051                0.048214   \n",
       "1     BestMLP  EEG_Raw                -0.828877                0.028544   \n",
       "2     BestSVR  EEG_Raw                -0.355963                0.146964   \n",
       "\n",
       "   pearsonr_statistic_sem  \n",
       "0                0.009455  \n",
       "1                0.012765  \n",
       "2                0.007970  "
      ]
     },
     "execution_count": 192,
     "metadata": {},
     "output_type": "execute_result"
    }
   ],
   "source": [
    "# grouped_df = dfs['results_best_again'].groupby(['method_name', 'eeg_name'])\n",
    "# grouped_df = dfs['results_clustersvr'].groupby(['method_name', 'eeg_name'])\n",
    "grouped_df = dfs['results_best_cluster'].groupby(['method_name', 'eeg_name'])\n",
    "\n",
    "\n",
    "# Calculate mean and std for each subtable\n",
    "compiled_result = grouped_df.agg({\n",
    "    'pearsonr_statistic': ['mean', 'std', 'sem']\n",
    "})\n",
    "\n",
    "# Flatten the column names\n",
    "compiled_result.columns = ['_'.join(col).strip() for col in compiled_result.columns.values]\n",
    "\n",
    "# Reset the index to display method_name and training_size as columns\n",
    "compiled_result = compiled_result.reset_index()\n",
    "compiled_result"
   ]
  },
  {
   "cell_type": "code",
   "execution_count": null,
   "id": "9411e7c0-9649-4a38-9c49-c5a8cb65a84e",
   "metadata": {},
   "outputs": [],
   "source": []
  }
 ],
 "metadata": {
  "kernelspec": {
   "display_name": "Python 3",
   "language": "python",
   "name": "python3"
  },
  "language_info": {
   "codemirror_mode": {
    "name": "ipython",
    "version": 3
   },
   "file_extension": ".py",
   "mimetype": "text/x-python",
   "name": "python",
   "nbconvert_exporter": "python",
   "pygments_lexer": "ipython3",
   "version": "3.9.19"
  }
 },
 "nbformat": 4,
 "nbformat_minor": 5
}
