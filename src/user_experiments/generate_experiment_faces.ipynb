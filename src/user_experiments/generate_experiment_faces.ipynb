{
 "cells": [
  {
   "cell_type": "code",
   "execution_count": 21,
   "id": "32ae064b-aeb1-440b-a2b2-e88749bc2076",
   "metadata": {},
   "outputs": [],
   "source": [
    "import os\n",
    "_DF_DIR = os.path.join('..', 'analysis', 'df_files')\n",
    "_CSV_DIR = os.path.join('..', 'analysis', 'csv_files')\n",
    "\n",
    "import sys\n",
    "sys.path.append(os.path.join('..', 'analysis', 'plots'))\n",
    "sys.path.append(os.path.join('..', 'tools'))\n",
    "import plotconfig"
   ]
  },
  {
   "cell_type": "code",
   "execution_count": 22,
   "id": "726a5990-d034-482c-8182-b96272d91126",
   "metadata": {},
   "outputs": [],
   "source": [
    "import seaborn as sns\n",
    "import matplotlib.pyplot as plt\n",
    "from matplotlib import ticker\n",
    "from matplotlib.ticker import FuncFormatter\n",
    "from scipy import stats\n",
    "import pandas as pd\n",
    "import numpy as np"
   ]
  },
  {
   "cell_type": "code",
   "execution_count": 23,
   "id": "58c3f9ab-cd58-4947-a206-0b75a75d97d0",
   "metadata": {},
   "outputs": [],
   "source": [
    "dbf1 = os.path.join(_DF_DIR, 'results.parquet')\n",
    "df1 = pd.read_parquet(dbf1, engine='pyarrow')\n",
    "\n",
    "mask1 = ((df1['method_name'] == \"LinearRegression\") &\n",
    "        (df1['eeg_name'] == \"EEG_Raw\") & \n",
    "        (df1['training_size'] == plotconfig.N_FOR_PERF_SCORE_COMPARISON) & \n",
    "        (df1['test_name'] == \"diagonal\"))\n",
    "\n",
    "df_algorithm = df1[mask1]"
   ]
  },
  {
   "cell_type": "code",
   "execution_count": 24,
   "id": "489c0b5e-2106-4144-8f7a-8a078b6dab21",
   "metadata": {},
   "outputs": [
    {
     "data": {
      "text/plain": [
       "array([ 0. ,  1.6,  3.6,  6.8, 10.9, 16.3, 21.7, 29.4, 36.7, 46.2])"
      ]
     },
     "execution_count": 24,
     "metadata": {},
     "output_type": "execute_result"
    }
   ],
   "source": [
    "humanfile = os.path.join(_CSV_DIR, 'image-distance-user-evaluations.csv')\n",
    "df_human = pd.read_csv(humanfile)\n",
    "df_human['round_d'] = round(df_human['distance'] * df_algorithm['true_distances'].explode().max(), 1)\n",
    "human_unique_round_d = df_human['round_d'].unique()\n",
    "human_unique_round_d"
   ]
  },
  {
   "cell_type": "code",
   "execution_count": 76,
   "id": "6cf79c2e-99ef-49b0-9955-6fe358697751",
   "metadata": {},
   "outputs": [],
   "source": [
    "import dataset_tools\n",
    "import file_tools\n",
    "import face_tools\n",
    "import saving_tools\n",
    "\n",
    "_EXP_DIR = os.path.join('..', 'experiments')\n",
    "_DATASET_DIR = os.path.join(_EXP_DIR, 'datasets')\n",
    "_FACE_DIR = os.path.join('.', 'static')\n"
   ]
  },
  {
   "cell_type": "code",
   "execution_count": 86,
   "id": "bc251219-6b61-40d8-a44f-30a95d9b4061",
   "metadata": {},
   "outputs": [],
   "source": [
    "from scipy.spatial import distance\n",
    "\n",
    "faces_to_test = []\n",
    "dataset_paths = file_tools.sort_filepaths([f for f in file_tools.list_folders(_DATASET_DIR)])\n",
    "for dataset_path in dataset_paths:\n",
    "        \n",
    "    target_folder = os.path.join(dataset_path, 'target')\n",
    "    target_filename = os.path.join(target_folder, 'target.npz')\n",
    "\n",
    "    test_folder = os.path.join(dataset_path, 'test')\n",
    "    test_filepaths = file_tools.sort_filepaths(file_tools.list_files(test_folder, 'diagonal.npz'))\n",
    "\n",
    "    target_data = np.load(target_filename)\n",
    "    target = target_data['target_face']\n",
    "\n",
    "    for test_filename in test_filepaths:\n",
    "        test_data = np.load(test_filename)\n",
    "        test_faces = test_data['test_faces']\n",
    "\n",
    "        for i, test_face in enumerate(test_faces):\n",
    "            rounded_d = np.round(distance.euclidean(target, test_face), 1)\n",
    "            if (rounded_d in human_unique_round_d):\n",
    "\n",
    "                test_info = {}\n",
    "                test_info[\"target_filename\"] = target_filename\n",
    "                test_info[\"test_filename\"] = test_filename\n",
    "                test_info[\"test_face_index\"] = i\n",
    "                test_info[\"rounded_d\"] = rounded_d\n",
    "\n",
    "                faces_to_test.append((target, test_face, test_info))\n",
    "    "
   ]
  },
  {
   "cell_type": "code",
   "execution_count": 87,
   "id": "db1d6056-2dbf-41d7-80e2-c7f731f3205f",
   "metadata": {},
   "outputs": [],
   "source": [
    "for i, (target, test_face, test_info) in enumerate(faces_to_test):\n",
    "\n",
    "    save_foldername = os.path.join(_FACE_DIR, file_tools.generate_n_digit_name(i, n_digit=4))\n",
    "    file_tools.ensure_dir(save_foldername)\n",
    "\n",
    "    target_face_filename = os.path.join(save_foldername, 'target.jpg')\n",
    "    target_face_img = face_tools.img_from_latent(target, size=1024)\n",
    "    target_face_img.save(target_face_filename, 'JPEG')\n",
    "\n",
    "    test_face_filename = os.path.join(save_foldername, 'test.jpg')\n",
    "    test_face_img = face_tools.img_from_latent(test_face, size=1024)\n",
    "    test_face_img.save(test_face_filename, 'JPEG')\n",
    "\n",
    "    test_info_filename = os.path.join(save_foldername, 'info.json')\n",
    "    saving_tools.save_dict_to_json(test_info, test_info_filename)"
   ]
  },
  {
   "cell_type": "code",
   "execution_count": null,
   "id": "1d312b82-35eb-439e-ae49-8ea359c434e4",
   "metadata": {},
   "outputs": [],
   "source": [
    "\n"
   ]
  }
 ],
 "metadata": {
  "kernelspec": {
   "display_name": "Python 3 (ipykernel)",
   "language": "python",
   "name": "python3"
  },
  "language_info": {
   "codemirror_mode": {
    "name": "ipython",
    "version": 3
   },
   "file_extension": ".py",
   "mimetype": "text/x-python",
   "name": "python",
   "nbconvert_exporter": "python",
   "pygments_lexer": "ipython3",
   "version": "3.9.19"
  }
 },
 "nbformat": 4,
 "nbformat_minor": 5
}
